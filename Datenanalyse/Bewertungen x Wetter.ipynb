{
 "cells": [
  {
   "cell_type": "code",
   "execution_count": 1,
   "id": "45f5fe6c",
   "metadata": {},
   "outputs": [],
   "source": [
    "import pandas as pd\n",
    "import psycopg2\n",
    "import plotly.express as px\n",
    "#fig.write_image(\"avg_stars_tavg.png\") "
   ]
  },
  {
   "cell_type": "code",
   "execution_count": 2,
   "id": "2e4a2dac",
   "metadata": {},
   "outputs": [],
   "source": [
    "conn = psycopg2.connect(database=\"db_sync\", user=\"patrick\", password=\"patrick\")\n",
    "cur = conn.cursor()"
   ]
  },
  {
   "cell_type": "code",
   "execution_count": 3,
   "id": "1426ffcd",
   "metadata": {},
   "outputs": [],
   "source": [
    "def sql(sql: str):\n",
    "    return pd.read_sql(sql, conn)"
   ]
  },
  {
   "cell_type": "code",
   "execution_count": 5,
   "id": "4c3d2048",
   "metadata": {},
   "outputs": [
    {
     "data": {
      "text/html": [
       "<div>\n",
       "<style scoped>\n",
       "    .dataframe tbody tr th:only-of-type {\n",
       "        vertical-align: middle;\n",
       "    }\n",
       "\n",
       "    .dataframe tbody tr th {\n",
       "        vertical-align: top;\n",
       "    }\n",
       "\n",
       "    .dataframe thead th {\n",
       "        text-align: right;\n",
       "    }\n",
       "</style>\n",
       "<table border=\"1\" class=\"dataframe\">\n",
       "  <thead>\n",
       "    <tr style=\"text-align: right;\">\n",
       "      <th></th>\n",
       "      <th>date</th>\n",
       "      <th>avg_stars</th>\n",
       "      <th>prcp</th>\n",
       "      <th>tavg</th>\n",
       "    </tr>\n",
       "  </thead>\n",
       "  <tbody>\n",
       "    <tr>\n",
       "      <th>0</th>\n",
       "      <td>2021-01-28</td>\n",
       "      <td>3.778481</td>\n",
       "      <td>2.633766</td>\n",
       "      <td>5.661111</td>\n",
       "    </tr>\n",
       "    <tr>\n",
       "      <th>1</th>\n",
       "      <td>2021-01-27</td>\n",
       "      <td>3.858521</td>\n",
       "      <td>5.318421</td>\n",
       "      <td>9.018782</td>\n",
       "    </tr>\n",
       "    <tr>\n",
       "      <th>2</th>\n",
       "      <td>2021-01-26</td>\n",
       "      <td>4.077586</td>\n",
       "      <td>4.569163</td>\n",
       "      <td>7.448864</td>\n",
       "    </tr>\n",
       "    <tr>\n",
       "      <th>3</th>\n",
       "      <td>2021-01-25</td>\n",
       "      <td>3.916667</td>\n",
       "      <td>2.962248</td>\n",
       "      <td>6.975000</td>\n",
       "    </tr>\n",
       "    <tr>\n",
       "      <th>4</th>\n",
       "      <td>2021-01-24</td>\n",
       "      <td>3.711160</td>\n",
       "      <td>1.654267</td>\n",
       "      <td>2.461268</td>\n",
       "    </tr>\n",
       "    <tr>\n",
       "      <th>...</th>\n",
       "      <td>...</td>\n",
       "      <td>...</td>\n",
       "      <td>...</td>\n",
       "      <td>...</td>\n",
       "    </tr>\n",
       "    <tr>\n",
       "      <th>3676</th>\n",
       "      <td>2011-01-05</td>\n",
       "      <td>3.744792</td>\n",
       "      <td>1.945304</td>\n",
       "      <td>2.607273</td>\n",
       "    </tr>\n",
       "    <tr>\n",
       "      <th>3677</th>\n",
       "      <td>2011-01-04</td>\n",
       "      <td>3.708609</td>\n",
       "      <td>0.034783</td>\n",
       "      <td>0.846154</td>\n",
       "    </tr>\n",
       "    <tr>\n",
       "      <th>3678</th>\n",
       "      <td>2011-01-03</td>\n",
       "      <td>3.619883</td>\n",
       "      <td>0.255072</td>\n",
       "      <td>2.119149</td>\n",
       "    </tr>\n",
       "    <tr>\n",
       "      <th>3679</th>\n",
       "      <td>2011-01-02</td>\n",
       "      <td>3.612676</td>\n",
       "      <td>3.641549</td>\n",
       "      <td>3.693519</td>\n",
       "    </tr>\n",
       "    <tr>\n",
       "      <th>3680</th>\n",
       "      <td>2011-01-01</td>\n",
       "      <td>3.694118</td>\n",
       "      <td>2.016216</td>\n",
       "      <td>3.927027</td>\n",
       "    </tr>\n",
       "  </tbody>\n",
       "</table>\n",
       "<p>3681 rows × 4 columns</p>\n",
       "</div>"
      ],
      "text/plain": [
       "            date  avg_stars      prcp      tavg\n",
       "0     2021-01-28   3.778481  2.633766  5.661111\n",
       "1     2021-01-27   3.858521  5.318421  9.018782\n",
       "2     2021-01-26   4.077586  4.569163  7.448864\n",
       "3     2021-01-25   3.916667  2.962248  6.975000\n",
       "4     2021-01-24   3.711160  1.654267  2.461268\n",
       "...          ...        ...       ...       ...\n",
       "3676  2011-01-05   3.744792  1.945304  2.607273\n",
       "3677  2011-01-04   3.708609  0.034783  0.846154\n",
       "3678  2011-01-03   3.619883  0.255072  2.119149\n",
       "3679  2011-01-02   3.612676  3.641549  3.693519\n",
       "3680  2011-01-01   3.694118  2.016216  3.927027\n",
       "\n",
       "[3681 rows x 4 columns]"
      ]
     },
     "execution_count": 5,
     "metadata": {},
     "output_type": "execute_result"
    }
   ],
   "source": [
    "df_stars_weather = sql(\"\"\"\n",
    "SELECT w.date, AVG(r.stars) avg_stars, AVG(w.prcp)/10 prcp, ((AVG(w.tmin) + AVG(w.tmax))/20) tavg FROM review r\n",
    "JOIN business b ON r.business_id = b.business_id\n",
    "JOIN station s ON b.id_first = s.id \n",
    "JOIN weather w ON s.id = w.id\n",
    "WHERE r.date = w.date\n",
    "AND r.date>= '2011-01-01'\n",
    "GROUP BY w.date\n",
    "ORDER BY w.date DESC\n",
    "\"\"\")\n",
    "df_stars_weather"
   ]
  },
  {
   "cell_type": "code",
   "execution_count": null,
   "id": "e9c75ad1",
   "metadata": {},
   "outputs": [],
   "source": [
    "# plotting the scatter chart\n",
    "fig = px.scatter(df_stars_weather, x=\"prcp\", y=\"avg_stars\",hover_data=['date'])\n",
    "fig.update_layout(title= dict(text= \"Durchschnitt Sternebewertungen zu Niederschlag pro Tag seit 2011\"),\n",
    "                  yaxis= dict(title= 'Durchschnittliche Sternebewertung',ticklen= 5,zeroline= False),\n",
    "                  xaxis= dict(title= 'Durchschnittlicher Niederschlag [in mm]',ticklen= 5,zeroline= False))  \n",
    "# showing the plot\n",
    "fig.show()"
   ]
  },
  {
   "cell_type": "code",
   "execution_count": null,
   "id": "425b192c",
   "metadata": {},
   "outputs": [],
   "source": [
    "# plotting the scatter chart\n",
    "fig = px.scatter(df_stars_weather, x=\"tavg\", y=\"avg_stars\",hover_data=['date'])\n",
    "fig.update_layout(title= dict(text= \"Durchschnitt Sternebewertungen zu Temperatur pro Tag seit 2011\"),\n",
    "                  yaxis= dict(title= 'Durchschnittliche Sternebewertung',ticklen= 5,zeroline= False),\n",
    "                  xaxis= dict(title= 'Durchschnittliche Temperatur [°C] ',ticklen= 5,zeroline= False))  \n",
    "# showing the plot\n",
    "fig.show()"
   ]
  },
  {
   "cell_type": "code",
   "execution_count": null,
   "id": "2839af4c",
   "metadata": {},
   "outputs": [],
   "source": [
    "df_count_stars_weather = sql(\"\"\"\n",
    "SELECT w.date, COUNT(r.stars) count_stars, AVG(w.prcp) prcp, ((AVG(w.tmin) + AVG(w.tmax))/2) tavg FROM review r\n",
    "JOIN business b ON r.business_id = b.business_id\n",
    "JOIN station s ON b.id_first = s.id \n",
    "JOIN weather w ON s.id = w.id\n",
    "WHERE r.date = w.date\n",
    "AND r.date>= '2011-01-01'\n",
    "GROUP BY w.date\n",
    "ORDER BY w.date DESC\n",
    "\"\"\")\n",
    "df_count_stars_weather"
   ]
  },
  {
   "cell_type": "code",
   "execution_count": null,
   "id": "cd442ef8",
   "metadata": {},
   "outputs": [],
   "source": [
    "# plotting the scatter chart\n",
    "fig = px.scatter(df_count_stars_weather, x=\"prcp\", y=\"count_stars\",hover_data=['date'])\n",
    "fig.update_layout(title= dict(text= \"Anzahl Sternebewertungen zu Niederschlag pro Tag seit 2011\"),\n",
    "                  yaxis= dict(title= 'Anzahl Sternebewertung',ticklen= 5,zeroline= False),\n",
    "                  xaxis= dict(title= 'Durchschnittlicher Niederschlag [in mm] ',ticklen= 5,zeroline= False))  \n",
    "# showing the plot\n",
    "fig.show()"
   ]
  },
  {
   "cell_type": "code",
   "execution_count": null,
   "id": "4bdb6d0b",
   "metadata": {},
   "outputs": [],
   "source": [
    "# plotting the scatter chart\n",
    "fig = px.scatter(df_count_stars_weather, x=\"tavg\", y=\"count_stars\",hover_data=['date'])\n",
    "fig.update_layout(title= dict(text= \"Anzahl Sternebewertungen zu Temperatur pro Tag seit 2011\"),\n",
    "                  yaxis= dict(title= 'Anzahl Sternebewertung',ticklen= 5,zeroline= False),\n",
    "                  xaxis= dict(title= 'Durchschnittliche Temperatur [°C]',ticklen= 5,zeroline= False))  \n",
    "# showing the plot\n",
    "fig.show()"
   ]
  },
  {
   "cell_type": "code",
   "execution_count": null,
   "id": "0e106dbe",
   "metadata": {},
   "outputs": [],
   "source": []
  }
 ],
 "metadata": {
  "kernelspec": {
   "display_name": "Python 3",
   "language": "python",
   "name": "python3"
  },
  "language_info": {
   "codemirror_mode": {
    "name": "ipython",
    "version": 3
   },
   "file_extension": ".py",
   "mimetype": "text/x-python",
   "name": "python",
   "nbconvert_exporter": "python",
   "pygments_lexer": "ipython3",
   "version": "3.6.8"
  }
 },
 "nbformat": 4,
 "nbformat_minor": 5
}
