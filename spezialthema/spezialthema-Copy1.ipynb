{
 "cells": [
  {
   "cell_type": "code",
   "execution_count": 1,
   "id": "a1921ed7",
   "metadata": {},
   "outputs": [],
   "source": [
    "import psycopg2\n",
    "import pandas as pd"
   ]
  },
  {
   "cell_type": "code",
   "execution_count": 2,
   "id": "affdc30a",
   "metadata": {},
   "outputs": [],
   "source": [
    "conn = psycopg2.connect(database=\"spezialthema\", user=\"kevin\", password=\"12345678\")"
   ]
  },
  {
   "cell_type": "code",
   "execution_count": 3,
   "id": "514db801",
   "metadata": {},
   "outputs": [
    {
     "name": "stdout",
     "output_type": "stream",
     "text": [
      "[('Blue Cross Clinic',), ('Imagery Health',), ('Open Clinic',), ('Van Holsen Community Hospital',)]\n"
     ]
    }
   ],
   "source": [
    "with conn:\n",
    "    with conn.cursor() as cur:\n",
    "        cur.execute('select hospital_name from hospitals group by hospital_name HAVING COUNT (DISTINCT city) > 1;')\n",
    "        print(cur.fetchall())\n",
    "        \n",
    "        "
   ]
  },
  {
   "cell_type": "code",
   "execution_count": 4,
   "id": "f24bacaa",
   "metadata": {},
   "outputs": [],
   "source": [
    "def create():\n",
    "    with conn:\n",
    "        with conn.cursor() as cur:\n",
    "            cur.execute('CREATE TABLE test (A varchar(2), B varchar(2), C varchar(2),D varchar(2))')\n",
    "            cur.execute('INSERT INTO test(A, B, C, D) values(%s, %s, %s, %s);', ['a1', 'b1', 'c1', 'd2'])\n",
    "            cur.execute('INSERT INTO test(A, B, C, D) values(%s, %s, %s, %s);', ['a2', 'b2', 'c1', 'd1'])\n",
    "            cur.execute('INSERT INTO test(A, B, C, D) values(%s, %s, %s, %s);', ['a1', 'b1', 'c2', 'd1'])"
   ]
  },
  {
   "cell_type": "code",
   "execution_count": 5,
   "id": "32d9f9fb",
   "metadata": {},
   "outputs": [
    {
     "ename": "DuplicateTable",
     "evalue": "relation \"test\" already exists\n",
     "output_type": "error",
     "traceback": [
      "\u001b[0;31m---------------------------------------------------------------------------\u001b[0m",
      "\u001b[0;31mDuplicateTable\u001b[0m                            Traceback (most recent call last)",
      "\u001b[0;32m<ipython-input-5-ebd64dd76380>\u001b[0m in \u001b[0;36m<module>\u001b[0;34m\u001b[0m\n\u001b[0;32m----> 1\u001b[0;31m \u001b[0mcreate\u001b[0m\u001b[0;34m(\u001b[0m\u001b[0;34m)\u001b[0m\u001b[0;34m\u001b[0m\u001b[0;34m\u001b[0m\u001b[0m\n\u001b[0m",
      "\u001b[0;32m<ipython-input-4-d254243662a8>\u001b[0m in \u001b[0;36mcreate\u001b[0;34m()\u001b[0m\n\u001b[1;32m      2\u001b[0m     \u001b[0;32mwith\u001b[0m \u001b[0mconn\u001b[0m\u001b[0;34m:\u001b[0m\u001b[0;34m\u001b[0m\u001b[0;34m\u001b[0m\u001b[0m\n\u001b[1;32m      3\u001b[0m         \u001b[0;32mwith\u001b[0m \u001b[0mconn\u001b[0m\u001b[0;34m.\u001b[0m\u001b[0mcursor\u001b[0m\u001b[0;34m(\u001b[0m\u001b[0;34m)\u001b[0m \u001b[0;32mas\u001b[0m \u001b[0mcur\u001b[0m\u001b[0;34m:\u001b[0m\u001b[0;34m\u001b[0m\u001b[0;34m\u001b[0m\u001b[0m\n\u001b[0;32m----> 4\u001b[0;31m             \u001b[0mcur\u001b[0m\u001b[0;34m.\u001b[0m\u001b[0mexecute\u001b[0m\u001b[0;34m(\u001b[0m\u001b[0;34m'CREATE TABLE test (A varchar(2), B varchar(2), C varchar(2),D varchar(2))'\u001b[0m\u001b[0;34m)\u001b[0m\u001b[0;34m\u001b[0m\u001b[0;34m\u001b[0m\u001b[0m\n\u001b[0m\u001b[1;32m      5\u001b[0m             \u001b[0mcur\u001b[0m\u001b[0;34m.\u001b[0m\u001b[0mexecute\u001b[0m\u001b[0;34m(\u001b[0m\u001b[0;34m'INSERT INTO test(A, B, C, D) values(%s, %s, %s, %s);'\u001b[0m\u001b[0;34m,\u001b[0m \u001b[0;34m[\u001b[0m\u001b[0;34m'a1'\u001b[0m\u001b[0;34m,\u001b[0m \u001b[0;34m'b1'\u001b[0m\u001b[0;34m,\u001b[0m \u001b[0;34m'c1'\u001b[0m\u001b[0;34m,\u001b[0m \u001b[0;34m'd2'\u001b[0m\u001b[0;34m]\u001b[0m\u001b[0;34m)\u001b[0m\u001b[0;34m\u001b[0m\u001b[0;34m\u001b[0m\u001b[0m\n\u001b[1;32m      6\u001b[0m             \u001b[0mcur\u001b[0m\u001b[0;34m.\u001b[0m\u001b[0mexecute\u001b[0m\u001b[0;34m(\u001b[0m\u001b[0;34m'INSERT INTO test(A, B, C, D) values(%s, %s, %s, %s);'\u001b[0m\u001b[0;34m,\u001b[0m \u001b[0;34m[\u001b[0m\u001b[0;34m'a2'\u001b[0m\u001b[0;34m,\u001b[0m \u001b[0;34m'b2'\u001b[0m\u001b[0;34m,\u001b[0m \u001b[0;34m'c1'\u001b[0m\u001b[0;34m,\u001b[0m \u001b[0;34m'd1'\u001b[0m\u001b[0;34m]\u001b[0m\u001b[0;34m)\u001b[0m\u001b[0;34m\u001b[0m\u001b[0;34m\u001b[0m\u001b[0m\n",
      "\u001b[0;31mDuplicateTable\u001b[0m: relation \"test\" already exists\n"
     ]
    }
   ],
   "source": [
    "create()"
   ]
  },
  {
   "cell_type": "code",
   "execution_count": 3,
   "id": "03cc5eec",
   "metadata": {},
   "outputs": [
    {
     "name": "stdout",
     "output_type": "stream",
     "text": [
      "    a   b   c   d\n",
      "0  a1  b1  c1  d2\n",
      "1  a2  b2  c1  d1\n",
      "2  a1  b1  c2  d1\n"
     ]
    }
   ],
   "source": [
    "sql = pd.read_sql_query ('select * from test', conn)\n",
    "df = pd.DataFrame(sql)\n",
    "print(df)"
   ]
  },
  {
   "cell_type": "code",
   "execution_count": 20,
   "id": "a9c2362b",
   "metadata": {},
   "outputs": [
    {
     "name": "stdout",
     "output_type": "stream",
     "text": [
      "[('Seq Scan on test  (cost=0.00..1.03 rows=3 width=12)',)]\n",
      "[]\n",
      "[('a1', 'b1', 'c1', 'd2', 'a1', 'b1', 'c2', 'd1'), ('a1', 'b1', 'c2', 'd1', 'a1', 'b1', 'c1', 'd2')]\n",
      "[]\n",
      "[('a1',)]\n",
      "                                        dependencies\n",
      "5  {\"1 => 2\": 1.000000, \"1 => 3\": 0.333333, \"2 =>...\n",
      "[('{\"1 => 2\": 1.000000, \"2 => 1\": 1.000000}',), ('{\"1 => 2\": 1.000000, \"2 => 1\": 1.000000}',), ('{\"1 => 2\": 1.000000, \"2 => 1\": 1.000000}',), ('{\"1 => 2\": 1.000000, \"2 => 1\": 1.000000}',), ('{\"1 => 2\": 1.000000, \"2 => 1\": 1.000000}',), ('{\"1 => 2\": 1.000000, \"1 => 3\": 0.333333, \"2 => 1\": 1.000000, \"2 => 3\": 0.333333, \"3 => 1\": 0.333333, \"3 => 2\": 0.333333, \"1, 2 => 3\": 0.333333, \"1, 3 => 2\": 1.000000, \"2, 3 => 1\": 1.000000}',)]\n"
     ]
    }
   ],
   "source": [
    "def sql(sql: str):\n",
    "    return pd.read_sql(sql, conn)\n",
    "\n",
    "with conn:\n",
    "    with conn.cursor() as cur:\n",
    "        cur.execute('EXPLAIN select * from test')\n",
    "        print(cur.fetchall())\n",
    "        cur.execute('SELECT * from test T1, test T2 where T1.A=T2.A and T1.B <> T2.B')\n",
    "        print(cur.fetchall())\n",
    "        cur.execute('SELECT * from test T1, test T2 where T1.A=T2.A and T1.C <> T2.C')\n",
    "        print(cur.fetchall())\n",
    "        cur.execute('select A from test group by A HAVING COUNT (DISTINCT B) > 1;')\n",
    "        print(cur.fetchall())\n",
    "        cur.execute('select A from test group by A HAVING COUNT (DISTINCT C) > 1;')\n",
    "        print(cur.fetchall())\n",
    "        \n",
    "        #cur.execute('CREATE STATISTICS s6 (dependencies) ON a,b,c FROM test')\n",
    "        cur.execute('ANALYZE test')   \n",
    "        print(sql('SELECT dependencies FROM pg_stats_ext').loc[[5]])\n",
    "        cur.execute('SELECT dependencies FROM pg_stats_ext')\n",
    "\n",
    "        print(cur.fetchall())\n"
   ]
  },
  {
   "cell_type": "code",
   "execution_count": null,
   "id": "8a8b8031",
   "metadata": {},
   "outputs": [],
   "source": [
    "conn.close()"
   ]
  }
 ],
 "metadata": {
  "kernelspec": {
   "display_name": "Python 3",
   "language": "python",
   "name": "python3"
  },
  "language_info": {
   "codemirror_mode": {
    "name": "ipython",
    "version": 3
   },
   "file_extension": ".py",
   "mimetype": "text/x-python",
   "name": "python",
   "nbconvert_exporter": "python",
   "pygments_lexer": "ipython3",
   "version": "3.6.8"
  }
 },
 "nbformat": 4,
 "nbformat_minor": 5
}
